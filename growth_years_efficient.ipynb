{
 "cells": [
  {
   "cell_type": "markdown",
   "metadata": {},
   "source": [
    "## Exercise A.3: Reduce memory usage of difference equations\n",
    "<div id=\"sec:diffeq:ex7\"></div>\n",
    "Filename: `growth_years_efficient`\n",
    "\n",
    "\n",
    "Consider the program below. Since $x_n$ depends on $x_{n-1}$ only, we do\n",
    "not need to store all the $N+1$\n",
    "$x_n$ values. We actually only need to\n",
    "store $x_n$ and its previous value $x_{n-1}$.  Modify the program to\n",
    "use two variables and not an array for the entire sequence.  Also\n",
    "avoid the `index_set` list and use an integer counter for $n$ and a\n",
    "`while` loop instead.  Write the sequence to file such that it can be\n",
    "visualized later."
   ]
  },
  {
   "cell_type": "code",
   "execution_count": null,
   "metadata": {
    "collapsed": false
   },
   "outputs": [],
   "source": [
    "%matplotlib inline\n",
    "\n",
    "# adapted version of growth_years.py\n",
    "import matplotlib.pyplot as plt\n",
    "import numpy as np\n",
    "\n",
    "x0 = 100                      # initial amount\n",
    "p = 5                         # interest rate\n",
    "N = 4                         # number of years\n",
    "index_set = range(N+1)\n",
    "x = np.zeros(len(index_set))\n",
    "\n",
    "# Compute solution\n",
    "x[0] = x0\n",
    "for n in index_set[1:]:\n",
    "    x[n] = x[n-1] + (p/100.0)*x[n-1]\n",
    "print x\n",
    "plt.plot(index_set, x, 'ro')\n",
    "plt.xlabel('years')\n",
    "plt.ylabel('amount')\n",
    "plt.show()"
   ]
  }
 ],
 "metadata": {
  "kernelspec": {
   "display_name": "Python 2",
   "language": "python",
   "name": "python2"
  },
  "language_info": {
   "codemirror_mode": {
    "name": "ipython",
    "version": 2
   },
   "file_extension": ".py",
   "mimetype": "text/x-python",
   "name": "python",
   "nbconvert_exporter": "python",
   "pygments_lexer": "ipython2",
   "version": "2.7.12+"
  }
 },
 "nbformat": 4,
 "nbformat_minor": 1
}
