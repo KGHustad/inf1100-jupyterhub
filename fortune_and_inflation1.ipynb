{
 "cells": [
  {
   "cell_type": "markdown",
   "metadata": {},
   "source": [
    "## Exercise A.5: Solve a system of difference equations (`fortune_and_inflation1`)\n",
    "<div id=\"sec:diffeq:ex4\"></div>"
   ]
  },
  {
   "cell_type": "markdown",
   "metadata": {},
   "source": [
    "<!-- Equation labels as ordinary links -->\n",
    "<div id=\"sec:diffeq:cxsystem1\"></div>\n",
    "\n",
    "$$\n",
    "\\begin{equation}\n",
    "x_n = x_{n-1} + {p\\over 100}x_{n-1} - c_{n-1},\\quad x_0=F,\\ c_0 = {pq\\over 10^4}F,\n",
    "\\label{sec:diffeq:cxsystem1} \\tag{1}\n",
    "\\end{equation}\n",
    "$$"
   ]
  },
  {
   "cell_type": "markdown",
   "metadata": {},
   "source": [
    "<!-- Equation labels as ordinary links -->\n",
    "<div id=\"sec:diffeq:cxsystem2\"></div>\n",
    "\n",
    "$$\n",
    "\\begin{equation} \n",
    "c_n = c_{n-1} + {I\\over100}c_{n-1}\n",
    "\\label{sec:diffeq:cxsystem2} \\tag{2}\n",
    "\\end{equation}\n",
    "$$"
   ]
  },
  {
   "cell_type": "markdown",
   "metadata": {},
   "source": [
    "Solve the equations above in a Python function and plot the $x_n$ sequence."
   ]
  },
  {
   "cell_type": "code",
   "execution_count": 1,
   "metadata": {
    "collapsed": false
   },
   "outputs": [],
   "source": [
    "%matplotlib inline\n",
    "\n",
    "import matplotlib.pyplot as plt\n",
    "import numpy as np\n",
    "\n",
    "# solution goes here"
   ]
  }
 ],
 "metadata": {
  "kernelspec": {
   "display_name": "Python 2",
   "language": "python",
   "name": "python2"
  },
  "language_info": {
   "codemirror_mode": {
    "name": "ipython",
    "version": 2
   },
   "file_extension": ".py",
   "mimetype": "text/x-python",
   "name": "python",
   "nbconvert_exporter": "python",
   "pygments_lexer": "ipython2",
   "version": "2.7.12+"
  }
 },
 "nbformat": 4,
 "nbformat_minor": 1
}
